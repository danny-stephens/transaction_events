{
 "cells": [
  {
   "cell_type": "code",
   "execution_count": 1,
   "id": "c03fc36f-b0eb-49fb-bbaf-04a756260e36",
   "metadata": {
    "execution": {
     "iopub.execute_input": "2024-10-03T09:24:51.384598Z",
     "iopub.status.busy": "2024-10-03T09:24:51.384292Z",
     "iopub.status.idle": "2024-10-03T09:24:51.427184Z",
     "shell.execute_reply": "2024-10-03T09:24:51.426598Z",
     "shell.execute_reply.started": "2024-10-03T09:24:51.384571Z"
    }
   },
   "outputs": [],
   "source": [
    "import json\n",
    "import boto3\n",
    "from faker import Faker\n",
    "from datetime import datetime, timedelta\n",
    "import uuid"
   ]
  },
  {
   "cell_type": "code",
   "execution_count": 2,
   "id": "df03eea5-e65a-4a08-8414-ee9814f73c2f",
   "metadata": {
    "execution": {
     "iopub.execute_input": "2024-10-03T09:26:02.030343Z",
     "iopub.status.busy": "2024-10-03T09:26:02.030027Z",
     "iopub.status.idle": "2024-10-03T09:26:02.060703Z",
     "shell.execute_reply": "2024-10-03T09:26:02.060039Z",
     "shell.execute_reply.started": "2024-10-03T09:26:02.030316Z"
    }
   },
   "outputs": [],
   "source": [
    "# Initialize Faker instance\n",
    "fake = Faker()\n",
    "\n",
    "# AWS S3 setup\n",
    "s3 = boto3.client('s3')\n",
    "\n",
    "# Define your S3 bucket name\n",
    "BUCKET_NAME = 'pismo-development-raw-events'"
   ]
  },
  {
   "cell_type": "code",
   "execution_count": 3,
   "id": "965afe66-c143-44d6-b7b0-45dddd02517d",
   "metadata": {
    "execution": {
     "iopub.execute_input": "2024-10-03T09:28:55.684488Z",
     "iopub.status.busy": "2024-10-03T09:28:55.684177Z",
     "iopub.status.idle": "2024-10-03T09:28:55.689555Z",
     "shell.execute_reply": "2024-10-03T09:28:55.688752Z",
     "shell.execute_reply.started": "2024-10-03T09:28:55.684461Z"
    }
   },
   "outputs": [],
   "source": [
    "# Function to generate a single event\n",
    "def generate_event():\n",
    "    domain = fake.random_element(elements=('account', 'transaction'))\n",
    "    event_type = fake.random_element(elements=('status-change', 'payment', 'creation'))\n",
    "    \n",
    "    event = {\n",
    "        \"event_id\": str(uuid.uuid4()),  # Unique event ID\n",
    "        \"timestamp\": datetime.now().isoformat(),  # Current timestamp\n",
    "        \"domain\": domain,\n",
    "        \"event_type\": event_type,\n",
    "        \"data\": {\n",
    "            \"id\": fake.random_int(min=100000, max=999999),  # Unique ID for account/transaction\n",
    "            \"old_status\": fake.random_element(elements=('SUSPENDED', 'ACTIVE')),\n",
    "            \"new_status\": fake.random_element(elements=('ACTIVE', 'INACTIVE')),\n",
    "            \"reason\": fake.sentence()\n",
    "        }\n",
    "    }\n",
    "    return event"
   ]
  },
  {
   "cell_type": "code",
   "execution_count": 4,
   "id": "537420ea-fc0a-4d40-af39-292cbc9f2e77",
   "metadata": {
    "execution": {
     "iopub.execute_input": "2024-10-03T09:29:10.863613Z",
     "iopub.status.busy": "2024-10-03T09:29:10.863305Z",
     "iopub.status.idle": "2024-10-03T09:29:10.867940Z",
     "shell.execute_reply": "2024-10-03T09:29:10.867101Z",
     "shell.execute_reply.started": "2024-10-03T09:29:10.863587Z"
    }
   },
   "outputs": [
    {
     "name": "stdout",
     "output_type": "stream",
     "text": [
      "{'event_id': '81ce37c9-2b11-4adf-b5c8-47d4c8f4cbb0', 'timestamp': '2024-10-03T09:29:10.864618', 'domain': 'account', 'event_type': 'status-change', 'data': {'id': 698828, 'old_status': 'SUSPENDED', 'new_status': 'ACTIVE', 'reason': 'National authority hot fight.'}}\n"
     ]
    }
   ],
   "source": [
    "print(generate_event())"
   ]
  },
  {
   "cell_type": "code",
   "execution_count": 5,
   "id": "837ddcfa-9ac9-452f-8052-56c5b5817555",
   "metadata": {
    "execution": {
     "iopub.execute_input": "2024-10-03T09:29:52.929554Z",
     "iopub.status.busy": "2024-10-03T09:29:52.929248Z",
     "iopub.status.idle": "2024-10-03T09:29:52.933496Z",
     "shell.execute_reply": "2024-10-03T09:29:52.932728Z",
     "shell.execute_reply.started": "2024-10-03T09:29:52.929528Z"
    }
   },
   "outputs": [],
   "source": [
    "# Function to upload events to S3\n",
    "def upload_event_to_s3(event_data, file_name):\n",
    "    s3.put_object(\n",
    "        Bucket=BUCKET_NAME,\n",
    "        Key=file_name,  # Unique file name for each event\n",
    "        Body=json.dumps(event_data),\n",
    "        ContentType='application/json'\n",
    "    )\n",
    "    print(f\"Uploaded event to S3: {file_name}\")"
   ]
  },
  {
   "cell_type": "code",
   "execution_count": null,
   "id": "a4813682-de4e-45ba-9444-f7f14952c4db",
   "metadata": {},
   "outputs": [],
   "source": []
  }
 ],
 "metadata": {
  "kernelspec": {
   "display_name": "Python 3",
   "language": "python",
   "name": "python3"
  },
  "language_info": {
   "codemirror_mode": {
    "name": "ipython",
    "version": 3
   },
   "file_extension": ".py",
   "mimetype": "text/x-python",
   "name": "python",
   "nbconvert_exporter": "python",
   "pygments_lexer": "ipython3",
   "version": "3.9.19"
  }
 },
 "nbformat": 4,
 "nbformat_minor": 5
}
