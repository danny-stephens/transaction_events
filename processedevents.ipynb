{
 "cells": [
  {
   "cell_type": "code",
   "execution_count": 1,
   "id": "3d57dc84-594c-4843-a72b-621cf67fda88",
   "metadata": {
    "execution": {
     "iopub.execute_input": "2024-10-03T18:00:50.433211Z",
     "iopub.status.busy": "2024-10-03T18:00:50.432910Z",
     "iopub.status.idle": "2024-10-03T18:01:26.044396Z",
     "shell.execute_reply": "2024-10-03T18:01:26.043831Z",
     "shell.execute_reply.started": "2024-10-03T18:00:50.433185Z"
    },
    "tags": []
   },
   "outputs": [
    {
     "data": {
      "application/vnd.jupyter.widget-view+json": {
       "model_id": "19a5cb7a15db4b23abbff554749d3d19",
       "version_major": 2,
       "version_minor": 0
      },
      "text/plain": [
       "VBox()"
      ]
     },
     "metadata": {},
     "output_type": "display_data"
    },
    {
     "name": "stdout",
     "output_type": "stream",
     "text": [
      "Starting Spark application\n"
     ]
    },
    {
     "data": {
      "text/html": [
       "<table>\n<tbody><tr><th>ID</th><th>YARN Application ID</th><th>Kind</th><th>State</th><th>Spark UI</th><th>Driver log</th><th>User</th><th>Current session?</th></tr><tr><td>5</td><td>application_1727940831410_0006</td><td>pyspark</td><td>idle</td><td><a target=\"_blank\" href=\"http://ip-10-0-6-160.us-east-2.compute.internal:20888/proxy/application_1727940831410_0006/\" class=\"emr-proxy-link j-DBXOCFAR99PN application_1727940831410_0006\" emr-resource=\"j-DBXOCFAR99PN\n\" application-id=\"application_1727940831410_0006\">Link</a></td><td><a target=\"_blank\" href=\"http://ip-10-0-13-117.us-east-2.compute.internal:8042/node/containerlogs/container_1727940831410_0006_01_000001/livy\">Link</a></td><td>None</td><td>✔</td></tr></tbody></table>"
      ],
      "text/plain": [
       "<IPython.core.display.HTML object>"
      ]
     },
     "metadata": {},
     "output_type": "display_data"
    },
    {
     "data": {
      "application/vnd.jupyter.widget-view+json": {
       "model_id": "",
       "version_major": 2,
       "version_minor": 0
      },
      "text/plain": [
       "FloatProgress(value=0.0, bar_style='info', description='Progress:', layout=Layout(height='25px', width='50%'),…"
      ]
     },
     "metadata": {},
     "output_type": "display_data"
    },
    {
     "name": "stdout",
     "output_type": "stream",
     "text": [
      "SparkSession available as 'spark'.\n"
     ]
    },
    {
     "data": {
      "application/vnd.jupyter.widget-view+json": {
       "model_id": "",
       "version_major": 2,
       "version_minor": 0
      },
      "text/plain": [
       "FloatProgress(value=0.0, bar_style='info', description='Progress:', layout=Layout(height='25px', width='50%'),…"
      ]
     },
     "metadata": {},
     "output_type": "display_data"
    }
   ],
   "source": [
    "from pyspark.sql import SparkSession\n",
    "from pyspark.sql.functions import col, row_number, year, month, dayofmonth\n",
    "from pyspark.sql.window import Window\n",
    "from pyspark.sql.types import StructType, StructField, StringType, IntegerType, TimestampType"
   ]
  },
  {
   "cell_type": "code",
   "execution_count": 2,
   "id": "ac8d947a-b524-454c-bd33-76b20edfca6b",
   "metadata": {
    "execution": {
     "iopub.execute_input": "2024-10-03T18:01:52.966102Z",
     "iopub.status.busy": "2024-10-03T18:01:52.965836Z",
     "iopub.status.idle": "2024-10-03T18:01:53.013267Z",
     "shell.execute_reply": "2024-10-03T18:01:53.012679Z",
     "shell.execute_reply.started": "2024-10-03T18:01:52.966073Z"
    }
   },
   "outputs": [
    {
     "data": {
      "application/vnd.jupyter.widget-view+json": {
       "model_id": "84e18d1b8dbd4d7686f499c755361075",
       "version_major": 2,
       "version_minor": 0
      },
      "text/plain": [
       "VBox()"
      ]
     },
     "metadata": {},
     "output_type": "display_data"
    },
    {
     "data": {
      "application/vnd.jupyter.widget-view+json": {
       "model_id": "",
       "version_major": 2,
       "version_minor": 0
      },
      "text/plain": [
       "FloatProgress(value=0.0, bar_style='info', description='Progress:', layout=Layout(height='25px', width='50%'),…"
      ]
     },
     "metadata": {},
     "output_type": "display_data"
    }
   ],
   "source": [
    "spark = SparkSession.builder \\\n",
    "        .appName(\"S3-Event-Processing\") \\\n",
    "        .config(\"spark.hadoop.fs.s3a.impl\", \"org.apache.hadoop.fs.s3a.S3AFileSystem\") \\\n",
    "        .config(\"spark.hadoop.fs.s3a.aws.credentials.provider\", \"com.amazonaws.auth.InstanceProfileCredentialsProvider\") \\\n",
    "        .getOrCreate()"
   ]
  },
  {
   "cell_type": "code",
   "execution_count": 3,
   "id": "fe8fb927-160a-4fc2-8f2c-0590513fc5e0",
   "metadata": {
    "execution": {
     "iopub.execute_input": "2024-10-03T18:05:01.595801Z",
     "iopub.status.busy": "2024-10-03T18:05:01.595578Z",
     "iopub.status.idle": "2024-10-03T18:05:01.635836Z",
     "shell.execute_reply": "2024-10-03T18:05:01.635239Z",
     "shell.execute_reply.started": "2024-10-03T18:05:01.595777Z"
    },
    "tags": []
   },
   "outputs": [
    {
     "data": {
      "application/vnd.jupyter.widget-view+json": {
       "model_id": "7f9111a1a41b4a3eafe4bb7d34c700fc",
       "version_major": 2,
       "version_minor": 0
      },
      "text/plain": [
       "VBox()"
      ]
     },
     "metadata": {},
     "output_type": "display_data"
    },
    {
     "data": {
      "application/vnd.jupyter.widget-view+json": {
       "model_id": "",
       "version_major": 2,
       "version_minor": 0
      },
      "text/plain": [
       "FloatProgress(value=0.0, bar_style='info', description='Progress:', layout=Layout(height='25px', width='50%'),…"
      ]
     },
     "metadata": {},
     "output_type": "display_data"
    }
   ],
   "source": [
    "#define the s3 buckets\n",
    "RAW_BUCKET_NAME = 's3a://pismo-development-raw-events/'\n",
    "PROCESSED_BUCKET_NAME = 's3a://pismo-development-processed-events/proceesed_events/'\n",
    "TRANSFORMED_BUCKET_NAME = 's3a://pismo-development-transformed-events/transformed_events/event_log/'"
   ]
  },
  {
   "cell_type": "code",
   "execution_count": 4,
   "id": "cdbf443e-ea63-4ebb-b77c-6e67cb5b0ca9",
   "metadata": {
    "execution": {
     "iopub.execute_input": "2024-10-03T18:07:29.476581Z",
     "iopub.status.busy": "2024-10-03T18:07:29.476356Z",
     "iopub.status.idle": "2024-10-03T18:07:29.520261Z",
     "shell.execute_reply": "2024-10-03T18:07:29.519710Z",
     "shell.execute_reply.started": "2024-10-03T18:07:29.476556Z"
    }
   },
   "outputs": [
    {
     "data": {
      "application/vnd.jupyter.widget-view+json": {
       "model_id": "c60d667101dc42a79fe46c1d6d61cdea",
       "version_major": 2,
       "version_minor": 0
      },
      "text/plain": [
       "VBox()"
      ]
     },
     "metadata": {},
     "output_type": "display_data"
    },
    {
     "data": {
      "application/vnd.jupyter.widget-view+json": {
       "model_id": "",
       "version_major": 2,
       "version_minor": 0
      },
      "text/plain": [
       "FloatProgress(value=0.0, bar_style='info', description='Progress:', layout=Layout(height='25px', width='50%'),…"
      ]
     },
     "metadata": {},
     "output_type": "display_data"
    }
   ],
   "source": [
    "# Define the schema for the raw JSON data\n",
    "schema = StructType([\n",
    "    StructField(\"event_id\", StringType(), True),\n",
    "    StructField(\"timestamp\", TimestampType(), True),\n",
    "    StructField(\"domain\", StringType(), True),\n",
    "    StructField(\"event_type\", StringType(), True),\n",
    "    StructField(\"data\", StructType([\n",
    "        StructField(\"id\", IntegerType(), True),\n",
    "        StructField(\"old_status\", StringType(), True),\n",
    "        StructField(\"new_status\", StringType(), True),\n",
    "        StructField(\"reason\", StringType(), True)\n",
    "    ]))\n",
    "])"
   ]
  },
  {
   "cell_type": "code",
   "execution_count": 5,
   "id": "0f96f496-9548-4e81-ad02-594ca74d8be2",
   "metadata": {
    "execution": {
     "iopub.execute_input": "2024-10-03T18:07:56.535578Z",
     "iopub.status.busy": "2024-10-03T18:07:56.535322Z",
     "iopub.status.idle": "2024-10-03T18:07:59.807270Z",
     "shell.execute_reply": "2024-10-03T18:07:59.806645Z",
     "shell.execute_reply.started": "2024-10-03T18:07:56.535551Z"
    }
   },
   "outputs": [
    {
     "data": {
      "application/vnd.jupyter.widget-view+json": {
       "model_id": "206a905cfa1049519bf9e37e68e4a14c",
       "version_major": 2,
       "version_minor": 0
      },
      "text/plain": [
       "VBox()"
      ]
     },
     "metadata": {},
     "output_type": "display_data"
    },
    {
     "data": {
      "application/vnd.jupyter.widget-view+json": {
       "model_id": "",
       "version_major": 2,
       "version_minor": 0
      },
      "text/plain": [
       "FloatProgress(value=0.0, bar_style='info', description='Progress:', layout=Layout(height='25px', width='50%'),…"
      ]
     },
     "metadata": {},
     "output_type": "display_data"
    }
   ],
   "source": [
    "#read JSON data from S3 using PySpark\n",
    "df = spark.read.schema(schema).json(RAW_BUCKET_NAME)"
   ]
  },
  {
   "cell_type": "code",
   "execution_count": 6,
   "id": "f41b35fd-63c5-4cec-944d-205b96616322",
   "metadata": {
    "execution": {
     "iopub.execute_input": "2024-10-03T18:08:20.219180Z",
     "iopub.status.busy": "2024-10-03T18:08:20.218952Z",
     "iopub.status.idle": "2024-10-03T18:08:31.512179Z",
     "shell.execute_reply": "2024-10-03T18:08:31.511374Z",
     "shell.execute_reply.started": "2024-10-03T18:08:20.219156Z"
    }
   },
   "outputs": [
    {
     "data": {
      "application/vnd.jupyter.widget-view+json": {
       "model_id": "9cecba2c0b6243fc8fdbff5aaa3f35b3",
       "version_major": 2,
       "version_minor": 0
      },
      "text/plain": [
       "VBox()"
      ]
     },
     "metadata": {},
     "output_type": "display_data"
    },
    {
     "data": {
      "application/vnd.jupyter.widget-view+json": {
       "model_id": "",
       "version_major": 2,
       "version_minor": 0
      },
      "text/plain": [
       "FloatProgress(value=0.0, bar_style='info', description='Progress:', layout=Layout(height='25px', width='50%'),…"
      ]
     },
     "metadata": {},
     "output_type": "display_data"
    },
    {
     "name": "stdout",
     "output_type": "stream",
     "text": [
      "[Row(event_id='6b52377f-dbe6-4887-bd86-1f07d2578fd2', timestamp=datetime.datetime(2024, 10, 3, 9, 31, 40, 916888), domain='account', event_type='status-change', data=Row(id=471582, old_status='SUSPENDED', new_status='INACTIVE', reason='Best resource attention economic understand treatment once son.')), Row(event_id='c2199d3d-5bc7-47a2-9b00-3fd97bc587b5', timestamp=datetime.datetime(2024, 10, 3, 9, 31, 44, 438381), domain='account', event_type='creation', data=Row(id=667218, old_status='SUSPENDED', new_status='INACTIVE', reason='Woman anything range behavior development history though.')), Row(event_id='a52ebccb-3b91-4b63-9a9a-bcbaf25930c8', timestamp=datetime.datetime(2024, 10, 3, 9, 31, 40, 618439), domain='transaction', event_type='creation', data=Row(id=333186, old_status='SUSPENDED', new_status='INACTIVE', reason='Add look article analysis time easy actually station.')), Row(event_id='c2199d3d-5bc7-47a2-9b00-3fd97bc587b5', timestamp=datetime.datetime(2024, 10, 3, 9, 31, 41, 262530), domain='account', event_type='creation', data=Row(id=667218, old_status='SUSPENDED', new_status='INACTIVE', reason='Woman anything range behavior development history though.')), Row(event_id='a044c022-a767-4c78-8d1a-6658c5745bf8', timestamp=datetime.datetime(2024, 10, 3, 9, 31, 41, 210094), domain='transaction', event_type='status-change', data=Row(id=470779, old_status='ACTIVE', new_status='ACTIVE', reason='Security international into build cold board listen.')), Row(event_id='fb004a88-b209-40cd-b46b-7db80482ac33', timestamp=datetime.datetime(2024, 10, 3, 9, 31, 40, 996799), domain='account', event_type='status-change', data=Row(id=840224, old_status='SUSPENDED', new_status='INACTIVE', reason='Go point return show stop forget large decision.')), Row(event_id='7b57228d-caf1-4cb4-9b14-c2a1e4de1916', timestamp=datetime.datetime(2024, 10, 3, 9, 31, 49, 569294), domain='transaction', event_type='status-change', data=Row(id=482460, old_status='ACTIVE', new_status='ACTIVE', reason='Necessary defense ago laugh whom also miss get.')), Row(event_id='7b57228d-caf1-4cb4-9b14-c2a1e4de1916', timestamp=datetime.datetime(2024, 10, 3, 9, 31, 40, 864583), domain='transaction', event_type='status-change', data=Row(id=482460, old_status='ACTIVE', new_status='ACTIVE', reason='Necessary defense ago laugh whom also miss get.')), Row(event_id='d135c7b9-8dbc-479f-8dfb-fcc4322bb7f2', timestamp=datetime.datetime(2024, 10, 3, 9, 31, 46, 493008), domain='transaction', event_type='payment', data=Row(id=262072, old_status='ACTIVE', new_status='INACTIVE', reason='Understand table stuff amount in grow career dark.')), Row(event_id='1e4c3d65-6668-401f-9170-ad867c2e00e2', timestamp=datetime.datetime(2024, 10, 3, 9, 31, 40, 697187), domain='account', event_type='payment', data=Row(id=517854, old_status='SUSPENDED', new_status='ACTIVE', reason='Prepare interest fund suffer once material different.'))]"
     ]
    }
   ],
   "source": [
    "#print sample data\n",
    "df.head(10)"
   ]
  },
  {
   "cell_type": "code",
   "execution_count": 10,
   "id": "9a1a0216-324a-418f-9435-b5b32322189b",
   "metadata": {
    "execution": {
     "iopub.execute_input": "2024-10-03T18:09:41.147740Z",
     "iopub.status.busy": "2024-10-03T18:09:41.147474Z",
     "iopub.status.idle": "2024-10-03T18:09:41.392393Z",
     "shell.execute_reply": "2024-10-03T18:09:41.391789Z",
     "shell.execute_reply.started": "2024-10-03T18:09:41.147711Z"
    },
    "tags": []
   },
   "outputs": [
    {
     "data": {
      "application/vnd.jupyter.widget-view+json": {
       "model_id": "b0df2859f379437ab7bb178cc7ff2780",
       "version_major": 2,
       "version_minor": 0
      },
      "text/plain": [
       "VBox()"
      ]
     },
     "metadata": {},
     "output_type": "display_data"
    },
    {
     "data": {
      "application/vnd.jupyter.widget-view+json": {
       "model_id": "",
       "version_major": 2,
       "version_minor": 0
      },
      "text/plain": [
       "FloatProgress(value=0.0, bar_style='info', description='Progress:', layout=Layout(height='25px', width='50%'),…"
      ]
     },
     "metadata": {},
     "output_type": "display_data"
    }
   ],
   "source": [
    "#transform data by selecting the latest event per domain, event_type, and data.id\n",
    "window_spec = Window.partitionBy(\"domain\", \"event_type\", \"data.id\").orderBy(col(\"timestamp\").desc())\n",
    "    \n",
    "        # Add row number within each partition (we'll keep only the first row which is the latest event)\n",
    "df_with_row_num = df.withColumn(\"row_num\", row_number().over(window_spec))\n",
    "        \n",
    "        # Filter to keep only the latest event per group (row_num == 1)\n",
    "df_latest = df_with_row_num.filter(col(\"row_num\") == 1).drop(\"row_num\")"
   ]
  },
  {
   "cell_type": "code",
   "execution_count": 11,
   "id": "c06b0fd2-6838-499e-9ede-fac923038032",
   "metadata": {
    "execution": {
     "iopub.execute_input": "2024-10-03T18:10:22.227889Z",
     "iopub.status.busy": "2024-10-03T18:10:22.227658Z",
     "iopub.status.idle": "2024-10-03T18:10:33.515354Z",
     "shell.execute_reply": "2024-10-03T18:10:33.514677Z",
     "shell.execute_reply.started": "2024-10-03T18:10:22.227865Z"
    }
   },
   "outputs": [
    {
     "data": {
      "application/vnd.jupyter.widget-view+json": {
       "model_id": "041d6a1349fa4085a7475cd0f628d38e",
       "version_major": 2,
       "version_minor": 0
      },
      "text/plain": [
       "VBox()"
      ]
     },
     "metadata": {},
     "output_type": "display_data"
    },
    {
     "data": {
      "application/vnd.jupyter.widget-view+json": {
       "model_id": "",
       "version_major": 2,
       "version_minor": 0
      },
      "text/plain": [
       "FloatProgress(value=0.0, bar_style='info', description='Progress:', layout=Layout(height='25px', width='50%'),…"
      ]
     },
     "metadata": {},
     "output_type": "display_data"
    },
    {
     "name": "stdout",
     "output_type": "stream",
     "text": [
      "[Row(event_id='fad0474f-93ed-46d1-a657-974543515e29', timestamp=datetime.datetime(2024, 10, 3, 9, 31, 41, 103663), domain='account', event_type='creation', data=Row(id=267212, old_status='SUSPENDED', new_status='INACTIVE', reason='Specific each air pay company happy.')), Row(event_id='120029bc-df17-4905-858e-3e0bd60c6d37', timestamp=datetime.datetime(2024, 10, 3, 9, 31, 40, 537824), domain='account', event_type='creation', data=Row(id=346074, old_status='ACTIVE', new_status='ACTIVE', reason='Data down turn.')), Row(event_id='c7904bd3-74eb-401e-8252-04d5a4cdc403', timestamp=datetime.datetime(2024, 10, 3, 9, 31, 40, 106511), domain='account', event_type='creation', data=Row(id=350276, old_status='SUSPENDED', new_status='ACTIVE', reason='Himself indicate physical.')), Row(event_id='75c2e00c-6363-4b84-b561-4613f0a931bf', timestamp=datetime.datetime(2024, 10, 3, 9, 31, 41, 130811), domain='account', event_type='creation', data=Row(id=473811, old_status='ACTIVE', new_status='INACTIVE', reason='Land design leave opportunity.')), Row(event_id='f5b9fe24-faf7-4423-9119-45ffae187ee5', timestamp=datetime.datetime(2024, 10, 3, 9, 31, 40, 969040), domain='account', event_type='creation', data=Row(id=606437, old_status='SUSPENDED', new_status='INACTIVE', reason='Stay be tell clearly avoid.')), Row(event_id='c2199d3d-5bc7-47a2-9b00-3fd97bc587b5', timestamp=datetime.datetime(2024, 10, 3, 9, 31, 44, 438381), domain='account', event_type='creation', data=Row(id=667218, old_status='SUSPENDED', new_status='INACTIVE', reason='Woman anything range behavior development history though.')), Row(event_id='a04993b0-3a3e-49ef-a9cc-fb04f4eb21d0', timestamp=datetime.datetime(2024, 10, 3, 9, 31, 40, 130513), domain='account', event_type='creation', data=Row(id=680675, old_status='SUSPENDED', new_status='ACTIVE', reason='Decade check generation series how.')), Row(event_id='c4a758c1-e1b4-4c37-8e32-af21c225b961', timestamp=datetime.datetime(2024, 10, 3, 9, 31, 40, 376686), domain='account', event_type='creation', data=Row(id=813481, old_status='ACTIVE', new_status='ACTIVE', reason='Phone might card memory moment list may.')), Row(event_id='74207ed3-3090-4f7d-b3bc-81141aedaf62', timestamp=datetime.datetime(2024, 10, 3, 9, 31, 40, 326549), domain='account', event_type='creation', data=Row(id=854187, old_status='ACTIVE', new_status='INACTIVE', reason='Campaign reach how we leader property stand.')), Row(event_id='9fea7812-7dd3-4216-b342-61b46e85f6ac', timestamp=datetime.datetime(2024, 10, 3, 9, 31, 40, 426520), domain='account', event_type='creation', data=Row(id=939851, old_status='ACTIVE', new_status='INACTIVE', reason='Provide your end majority door evidence society.'))]"
     ]
    }
   ],
   "source": [
    "#show the unique dataset by timestamp\n",
    "df_latest.head(10)"
   ]
  },
  {
   "cell_type": "code",
   "execution_count": 13,
   "id": "d474b076-8456-437a-9040-c62595a8ad2e",
   "metadata": {
    "execution": {
     "iopub.execute_input": "2024-10-03T18:11:44.228317Z",
     "iopub.status.busy": "2024-10-03T18:11:44.228085Z",
     "iopub.status.idle": "2024-10-03T18:11:55.518513Z",
     "shell.execute_reply": "2024-10-03T18:11:55.517884Z",
     "shell.execute_reply.started": "2024-10-03T18:11:44.228292Z"
    },
    "tags": []
   },
   "outputs": [
    {
     "data": {
      "application/vnd.jupyter.widget-view+json": {
       "model_id": "d0a2379862414d1da03d29960a1be464",
       "version_major": 2,
       "version_minor": 0
      },
      "text/plain": [
       "VBox()"
      ]
     },
     "metadata": {},
     "output_type": "display_data"
    },
    {
     "data": {
      "application/vnd.jupyter.widget-view+json": {
       "model_id": "",
       "version_major": 2,
       "version_minor": 0
      },
      "text/plain": [
       "FloatProgress(value=0.0, bar_style='info', description='Progress:', layout=Layout(height='25px', width='50%'),…"
      ]
     },
     "metadata": {},
     "output_type": "display_data"
    }
   ],
   "source": [
    "#write the transformed data to S3 in Parquet format, partitioned by year, month, day, and event_type\n",
    "\n",
    "df_with_date = df.withColumn(\"year\", year(col(\"timestamp\"))) \\\n",
    "                         .withColumn(\"month\", month(col(\"timestamp\"))) \\\n",
    "                         .withColumn(\"day\", dayofmonth(col(\"timestamp\")))\n",
    "\n",
    "        # Write the DataFrame to S3 in Parquet format, partitioned by year, month, day, and event_type\n",
    "df_with_date.write \\\n",
    "          .partitionBy(\"year\", \"month\", \"day\", \"event_type\") \\\n",
    "          .mode(\"overwrite\") \\\n",
    "          .parquet(PROCESSED_BUCKET_NAME)"
   ]
  },
  {
   "cell_type": "code",
   "execution_count": 14,
   "id": "0adbdf08-0c2c-40f1-a06a-ac176c63ddc8",
   "metadata": {
    "execution": {
     "iopub.execute_input": "2024-10-03T18:13:24.298161Z",
     "iopub.status.busy": "2024-10-03T18:13:24.297925Z",
     "iopub.status.idle": "2024-10-03T18:13:31.573822Z",
     "shell.execute_reply": "2024-10-03T18:13:31.573184Z",
     "shell.execute_reply.started": "2024-10-03T18:13:24.298135Z"
    }
   },
   "outputs": [
    {
     "data": {
      "application/vnd.jupyter.widget-view+json": {
       "model_id": "5b03e2bb3b474655a4be0e8f7b04c9c3",
       "version_major": 2,
       "version_minor": 0
      },
      "text/plain": [
       "VBox()"
      ]
     },
     "metadata": {},
     "output_type": "display_data"
    },
    {
     "data": {
      "application/vnd.jupyter.widget-view+json": {
       "model_id": "",
       "version_major": 2,
       "version_minor": 0
      },
      "text/plain": [
       "FloatProgress(value=0.0, bar_style='info', description='Progress:', layout=Layout(height='25px', width='50%'),…"
      ]
     },
     "metadata": {},
     "output_type": "display_data"
    }
   ],
   "source": [
    "#Read processed file from s3 bucket in parquet\n",
    "df_processed = spark.read.parquet(PROCESSED_BUCKET_NAME)"
   ]
  },
  {
   "cell_type": "code",
   "execution_count": 15,
   "id": "2212200e-b94c-4588-87f7-2a7af0b9b4d5",
   "metadata": {
    "execution": {
     "iopub.execute_input": "2024-10-03T18:13:37.999464Z",
     "iopub.status.busy": "2024-10-03T18:13:37.999234Z",
     "iopub.status.idle": "2024-10-03T18:13:39.255212Z",
     "shell.execute_reply": "2024-10-03T18:13:39.254477Z",
     "shell.execute_reply.started": "2024-10-03T18:13:37.999438Z"
    }
   },
   "outputs": [
    {
     "data": {
      "application/vnd.jupyter.widget-view+json": {
       "model_id": "25ff65889e4e4033878c1a36ac64f5b0",
       "version_major": 2,
       "version_minor": 0
      },
      "text/plain": [
       "VBox()"
      ]
     },
     "metadata": {},
     "output_type": "display_data"
    },
    {
     "data": {
      "application/vnd.jupyter.widget-view+json": {
       "model_id": "",
       "version_major": 2,
       "version_minor": 0
      },
      "text/plain": [
       "FloatProgress(value=0.0, bar_style='info', description='Progress:', layout=Layout(height='25px', width='50%'),…"
      ]
     },
     "metadata": {},
     "output_type": "display_data"
    },
    {
     "name": "stdout",
     "output_type": "stream",
     "text": [
      "[Row(event_id='c2199d3d-5bc7-47a2-9b00-3fd97bc587b5', timestamp=datetime.datetime(2024, 10, 3, 9, 31, 44, 438381), domain='account', data=Row(id=667218, old_status='SUSPENDED', new_status='INACTIVE', reason='Woman anything range behavior development history though.'), year=2024, month=10, day=3, event_type='creation'), Row(event_id='a52ebccb-3b91-4b63-9a9a-bcbaf25930c8', timestamp=datetime.datetime(2024, 10, 3, 9, 31, 40, 618439), domain='transaction', data=Row(id=333186, old_status='SUSPENDED', new_status='INACTIVE', reason='Add look article analysis time easy actually station.'), year=2024, month=10, day=3, event_type='creation'), Row(event_id='c2199d3d-5bc7-47a2-9b00-3fd97bc587b5', timestamp=datetime.datetime(2024, 10, 3, 9, 31, 41, 262530), domain='account', data=Row(id=667218, old_status='SUSPENDED', new_status='INACTIVE', reason='Woman anything range behavior development history though.'), year=2024, month=10, day=3, event_type='creation'), Row(event_id='ef34feb2-0a25-473e-92fc-b2b1e52d69f3', timestamp=datetime.datetime(2024, 10, 3, 9, 31, 40, 159565), domain='transaction', data=Row(id=906431, old_status='ACTIVE', new_status='INACTIVE', reason='Career recently late enjoy get service stay.'), year=2024, month=10, day=3, event_type='creation'), Row(event_id='9fea7812-7dd3-4216-b342-61b46e85f6ac', timestamp=datetime.datetime(2024, 10, 3, 9, 31, 40, 426520), domain='account', data=Row(id=939851, old_status='ACTIVE', new_status='INACTIVE', reason='Provide your end majority door evidence society.'), year=2024, month=10, day=3, event_type='creation'), Row(event_id='d685601d-8a36-4710-981e-916786d6c8fe', timestamp=datetime.datetime(2024, 10, 3, 9, 31, 40, 941788), domain='transaction', data=Row(id=366129, old_status='SUSPENDED', new_status='INACTIVE', reason='Two season build rest never manager just.'), year=2024, month=10, day=3, event_type='creation'), Row(event_id='74207ed3-3090-4f7d-b3bc-81141aedaf62', timestamp=datetime.datetime(2024, 10, 3, 9, 31, 40, 326549), domain='account', data=Row(id=854187, old_status='ACTIVE', new_status='INACTIVE', reason='Campaign reach how we leader property stand.'), year=2024, month=10, day=3, event_type='creation'), Row(event_id='d2210339-533a-46cb-a9da-3908fde6bea5', timestamp=datetime.datetime(2024, 10, 3, 9, 31, 43, 416977), domain='transaction', data=Row(id=922296, old_status='ACTIVE', new_status='ACTIVE', reason='My family each order test article think.'), year=2024, month=10, day=3, event_type='creation'), Row(event_id='d2210339-533a-46cb-a9da-3908fde6bea5', timestamp=datetime.datetime(2024, 10, 3, 9, 31, 40, 513638), domain='transaction', data=Row(id=922296, old_status='ACTIVE', new_status='ACTIVE', reason='My family each order test article think.'), year=2024, month=10, day=3, event_type='creation'), Row(event_id='bbdfe584-c0f4-443b-8c8f-8225441773ff', timestamp=datetime.datetime(2024, 10, 3, 9, 31, 41, 52228), domain='transaction', data=Row(id=674119, old_status='SUSPENDED', new_status='ACTIVE', reason='Small Republican TV property issue.'), year=2024, month=10, day=3, event_type='creation')]"
     ]
    }
   ],
   "source": [
    "df_processed.head(10)"
   ]
  },
  {
   "cell_type": "code",
   "execution_count": 16,
   "id": "388bf53d-ba78-4844-b150-1d51b73a1647",
   "metadata": {
    "execution": {
     "iopub.execute_input": "2024-10-03T18:13:58.963107Z",
     "iopub.status.busy": "2024-10-03T18:13:58.962875Z",
     "iopub.status.idle": "2024-10-03T18:13:59.008008Z",
     "shell.execute_reply": "2024-10-03T18:13:59.007206Z",
     "shell.execute_reply.started": "2024-10-03T18:13:58.963083Z"
    }
   },
   "outputs": [
    {
     "data": {
      "application/vnd.jupyter.widget-view+json": {
       "model_id": "4fbcceb3925e43dca12cd4edc15b1712",
       "version_major": 2,
       "version_minor": 0
      },
      "text/plain": [
       "VBox()"
      ]
     },
     "metadata": {},
     "output_type": "display_data"
    },
    {
     "data": {
      "application/vnd.jupyter.widget-view+json": {
       "model_id": "",
       "version_major": 2,
       "version_minor": 0
      },
      "text/plain": [
       "FloatProgress(value=0.0, bar_style='info', description='Progress:', layout=Layout(height='25px', width='50%'),…"
      ]
     },
     "metadata": {},
     "output_type": "display_data"
    },
    {
     "name": "stdout",
     "output_type": "stream",
     "text": [
      "root\n",
      " |-- event_id: string (nullable = true)\n",
      " |-- timestamp: timestamp (nullable = true)\n",
      " |-- domain: string (nullable = true)\n",
      " |-- data: struct (nullable = true)\n",
      " |    |-- id: integer (nullable = true)\n",
      " |    |-- old_status: string (nullable = true)\n",
      " |    |-- new_status: string (nullable = true)\n",
      " |    |-- reason: string (nullable = true)\n",
      " |-- year: integer (nullable = true)\n",
      " |-- month: integer (nullable = true)\n",
      " |-- day: integer (nullable = true)\n",
      " |-- event_type: string (nullable = true)"
     ]
    }
   ],
   "source": [
    "#show schema in parquet\n",
    "df_processed.printSchema()"
   ]
  },
  {
   "cell_type": "code",
   "execution_count": null,
   "id": "0029589c-4948-4c05-8085-c6138669b86a",
   "metadata": {},
   "outputs": [],
   "source": []
  }
 ],
 "metadata": {
  "kernelspec": {
   "display_name": "PySpark",
   "language": "python",
   "name": "pysparkkernel"
  },
  "language_info": {
   "codemirror_mode": {
    "name": "python",
    "version": 3
   },
   "file_extension": ".py",
   "mimetype": "text/x-python",
   "name": "pyspark",
   "pygments_lexer": "python3"
  }
 },
 "nbformat": 4,
 "nbformat_minor": 5
}
